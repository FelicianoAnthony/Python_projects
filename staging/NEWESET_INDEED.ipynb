{
 "cells": [
  {
   "cell_type": "code",
   "execution_count": 124,
   "metadata": {
    "collapsed": true
   },
   "outputs": [],
   "source": [
    "from selenium.webdriver.common.keys import Keys\n",
    "from selenium import webdriver \n",
    "from bs4 import BeautifulSoup\n",
    "from collections import defaultdict\n",
    "import urllib.request\n",
    "import requests\n",
    "import sqlite3\n",
    "import os\n",
    "import time\n",
    "import re"
   ]
  },
  {
   "cell_type": "code",
   "execution_count": null,
   "metadata": {
    "collapsed": true
   },
   "outputs": [],
   "source": [
    "from selenium import webdriver\n",
    "\n",
    "Instance = None\n",
    "\n",
    "def Initialize():\n",
    "    global Instance\n",
    "    Instance = webdriver.Chrome('/Users/Anthony/Desktop/chromedriver')\n",
    "    Instance.implicitly_wait(5)\n",
    "    return Instance\n",
    "\n",
    "def CloseDriver():\n",
    "    global Instance\n",
    "    Instance.quit()\n",
    " "
   ]
  },
  {
   "cell_type": "code",
   "execution_count": null,
   "metadata": {
    "collapsed": true
   },
   "outputs": [],
   "source": [
    "def setup_webdriver(path_to_driver): \n",
    "    '''set up webdriver'''\n",
    "\n",
    "    chromedriver = path_to_driver\n",
    "    os.environ[\"webdriver.chrome.driver\"] = chromedriver\n",
    "    driver = webdriver.Chrome(chromedriver)\n",
    "    return driver   \n",
    "\n",
    "\n",
    "def create_soup(url):\n",
    "    ''' create bs4 object '''\n",
    "    \n",
    "    r = requests.get(url, headers={\"User-Agent\": \"Mozilla/5.0 (Macintosh; Intel Mac OS X 10_11_4) AppleWebKit/537.36 (KHTML, like Gecko) Chrome/50.0.2661.94 Safari/537.36\"})\n",
    "    \n",
    "    return BeautifulSoup(r.content, \"html5lib\")"
   ]
  },
  {
   "cell_type": "code",
   "execution_count": 131,
   "metadata": {
    "collapsed": true
   },
   "outputs": [],
   "source": [
    "def scrape_job_post_links(url):\n",
    "    ''' returns all links from a query on indeed mobile '''\n",
    "    \n",
    "    soup = create_soup(url)\n",
    "\n",
    "    # get employers -- br tags\n",
    "    h2 = soup.find('h2')\n",
    "    company = [h.next_element.next_element.next_element\n",
    "           for h in h2.find_all_next('a')]\n",
    "    company_stripped = [i.strip().replace(' -', '') for i in company][0:10]\n",
    "    \n",
    "    # get job names\n",
    "    jobs_dict = {}\n",
    "    for h2 in soup.find_all('h2', {'class': 'jobTitle'}):\n",
    "        job = h2.text\n",
    "        job_title.append(job)\n",
    "        for a in h2:\n",
    "            concat_urls = 'https://www.indeed.com/m/' + a['href']\n",
    "            job_urls.append(concat_urls)\n",
    "            \n",
    "    # create a dictionary of unique identifiers to return\n",
    "\n",
    "    return jobs_dict\n",
    "    "
   ]
  },
  {
   "cell_type": "code",
   "execution_count": 132,
   "metadata": {
    "collapsed": false
   },
   "outputs": [
    {
     "ename": "TypeError",
     "evalue": "unhashable type: 'list'",
     "output_type": "error",
     "traceback": [
      "\u001b[0;31m---------------------------------------------------------------------------\u001b[0m",
      "\u001b[0;31mTypeError\u001b[0m                                 Traceback (most recent call last)",
      "\u001b[0;32m<ipython-input-132-ce36366c5dd8>\u001b[0m in \u001b[0;36m<module>\u001b[0;34m()\u001b[0m\n\u001b[1;32m      1\u001b[0m \u001b[0murl\u001b[0m \u001b[0;34m=\u001b[0m \u001b[0;34m'https://www.indeed.com/m/jobs?q=python+developer&l=new+york%2C+ny&sort=date'\u001b[0m\u001b[0;34m\u001b[0m\u001b[0m\n\u001b[0;32m----> 2\u001b[0;31m \u001b[0mscrape_job_post_links\u001b[0m\u001b[0;34m(\u001b[0m\u001b[0murl\u001b[0m\u001b[0;34m)\u001b[0m\u001b[0;34m\u001b[0m\u001b[0m\n\u001b[0m",
      "\u001b[0;32m<ipython-input-131-7399b8837528>\u001b[0m in \u001b[0;36mscrape_job_post_links\u001b[0;34m(url)\u001b[0m\n\u001b[1;32m     23\u001b[0m     \u001b[0mjobs_dict\u001b[0m \u001b[0;34m=\u001b[0m \u001b[0mdefaultdict\u001b[0m\u001b[0;34m(\u001b[0m\u001b[0mlist\u001b[0m\u001b[0;34m)\u001b[0m\u001b[0;34m\u001b[0m\u001b[0m\n\u001b[1;32m     24\u001b[0m     \u001b[0mdict_value\u001b[0m \u001b[0;34m=\u001b[0m \u001b[0mjob_title\u001b[0m\u001b[0;34m,\u001b[0m \u001b[0mcompany\u001b[0m\u001b[0;34m\u001b[0m\u001b[0m\n\u001b[0;32m---> 25\u001b[0;31m     \u001b[0mjobs_dict\u001b[0m\u001b[0;34m[\u001b[0m\u001b[0mjob_urls\u001b[0m\u001b[0;34m]\u001b[0m \u001b[0;34m=\u001b[0m \u001b[0mdict_value\u001b[0m\u001b[0;34m\u001b[0m\u001b[0m\n\u001b[0m\u001b[1;32m     26\u001b[0m     \u001b[0;32mreturn\u001b[0m \u001b[0mjobs_dict\u001b[0m\u001b[0;34m\u001b[0m\u001b[0m\n\u001b[1;32m     27\u001b[0m \u001b[0;34m\u001b[0m\u001b[0m\n",
      "\u001b[0;31mTypeError\u001b[0m: unhashable type: 'list'"
     ]
    }
   ],
   "source": [
    "url = 'https://www.indeed.com/m/jobs?q=python+developer&l=new+york%2C+ny&sort=date'\n",
    "scrape_job_post_links(url)"
   ]
  },
  {
   "cell_type": "code",
   "execution_count": 117,
   "metadata": {
    "collapsed": false
   },
   "outputs": [],
   "source": []
  },
  {
   "cell_type": "code",
   "execution_count": 68,
   "metadata": {
    "collapsed": true
   },
   "outputs": [],
   "source": [
    "soup = create_soup('https://www.indeed.com/m/jobs?q=python+developer&l=new+york%2C+ny&sort=date')"
   ]
  },
  {
   "cell_type": "code",
   "execution_count": 156,
   "metadata": {
    "collapsed": false
   },
   "outputs": [
    {
     "name": "stdout",
     "output_type": "stream",
     "text": [
      "<a href=\"Software Engineering Intern- Summer 2018\" rel=\"nofollow\">Software Engineering Intern- Summer 2018</a>\n",
      "<a href=\"Developer Operations - Communication Systems (Consultant)\" rel=\"nofollow\">Developer Operations - Communication Systems (Consultant)</a>\n",
      "<a href=\"Applications Bioinformatician\" rel=\"nofollow\">Applications Bioinformatician</a>\n",
      "<a href=\"Python Developer\" rel=\"nofollow\">Python Developer</a>\n",
      "<a href=\"Customer Success Engineer\" rel=\"nofollow\">Customer Success Engineer</a>\n",
      "<a href=\"Java Developer\" rel=\"nofollow\">Java Developer</a>\n",
      "<a href=\"Unix/Linux Admin\" rel=\"nofollow\">Unix/Linux Admin</a>\n",
      "<a href=\"Quality Assurance Analyst, Hearst Magazines Digital Media/Qu...\" rel=\"nofollow\">Quality Assurance Analyst, Hearst Magazines Digital Media/Qu...</a>\n",
      "<a href=\"Technology - Platform - Enterprise Technology Operations - A...\" rel=\"nofollow\">Technology - Platform - Enterprise Technology Operations - A...</a>\n",
      "<a href=\"Software Engineer - Web\" rel=\"nofollow\">Software Engineer - Web</a>\n"
     ]
    }
   ],
   "source": [
    "jobs_dict = {}\n",
    "for h2 in soup.find_all('h2', {'class': 'jobTitle'}):\n",
    "    job = h2.text\n",
    "    job_title.append(job)\n",
    "    jobs_dict[job] = {}\n",
    "    for a in h2:\n",
    "        #concat_urls = 'https://www.indeed.com/m/' + a['href']\n",
    "        #job_urls.append(concat_urls)\n",
    "        #jobs_dict[job] = concat_urls\n",
    "        print(a)"
   ]
  },
  {
   "cell_type": "code",
   "execution_count": 152,
   "metadata": {
    "collapsed": false
   },
   "outputs": [
    {
     "data": {
      "text/plain": [
       "{'Applications Bioinformatician': 'https://www.indeed.com/m/Applications Bioinformatician',\n",
       " 'Customer Success Engineer': 'https://www.indeed.com/m/Customer Success Engineer',\n",
       " 'Developer Operations - Communication Systems (Consultant)': 'https://www.indeed.com/m/Developer Operations - Communication Systems (Consultant)',\n",
       " 'Java Developer': 'https://www.indeed.com/m/Java Developer',\n",
       " 'Python Developer': 'https://www.indeed.com/m/Python Developer',\n",
       " 'Quality Assurance Analyst, Hearst Magazines Digital Media/Qu...': 'https://www.indeed.com/m/Quality Assurance Analyst, Hearst Magazines Digital Media/Qu...',\n",
       " 'Software Engineer - Web': 'https://www.indeed.com/m/Software Engineer - Web',\n",
       " 'Software Engineering Intern- Summer 2018': 'https://www.indeed.com/m/Software Engineering Intern- Summer 2018',\n",
       " 'Technology - Platform - Enterprise Technology Operations - A...': 'https://www.indeed.com/m/Technology - Platform - Enterprise Technology Operations - A...',\n",
       " 'Unix/Linux Admin': 'https://www.indeed.com/m/Unix/Linux Admin'}"
      ]
     },
     "execution_count": 152,
     "metadata": {},
     "output_type": "execute_result"
    }
   ],
   "source": [
    "jobs_dict"
   ]
  },
  {
   "cell_type": "code",
   "execution_count": 12,
   "metadata": {
    "collapsed": false
   },
   "outputs": [
    {
     "data": {
      "text/plain": [
       "[<br/>,\n",
       " <br/>,\n",
       " <br/>,\n",
       " <br/>,\n",
       " <br/>,\n",
       " <br/>,\n",
       " <br/>,\n",
       " <br/>,\n",
       " <br/>,\n",
       " <br/>,\n",
       " <br/>,\n",
       " <br/>,\n",
       " <br/>,\n",
       " <br/>,\n",
       " <br/>,\n",
       " <br/>,\n",
       " <br/>,\n",
       " <br/>,\n",
       " <br/>,\n",
       " <br/>,\n",
       " <br/>,\n",
       " <br/>,\n",
       " <br/>,\n",
       " <br/>]"
      ]
     },
     "execution_count": 12,
     "metadata": {},
     "output_type": "execute_result"
    }
   ],
   "source": [
    "table = soup.find('table')\n",
    ">>> for td in table.findChildren('td'):\n",
    "...:     print td.text"
   ]
  },
  {
   "cell_type": "code",
   "execution_count": 9,
   "metadata": {
    "collapsed": true
   },
   "outputs": [],
   "source": []
  },
  {
   "cell_type": "code",
   "execution_count": 4,
   "metadata": {
    "collapsed": false
   },
   "outputs": [],
   "source": [
    "driver_path = '/Users/Anthony/Desktop/chromedriver'\n",
    "\n",
    "driver = setup_webdriver(driver_path)"
   ]
  },
  {
   "cell_type": "code",
   "execution_count": 8,
   "metadata": {
    "collapsed": false
   },
   "outputs": [],
   "source": [
    "indeed_scraper(driver, 'python developer', 'new york, ny')"
   ]
  }
 ],
 "metadata": {
  "kernelspec": {
   "display_name": "Python 3",
   "language": "python",
   "name": "python3"
  },
  "language_info": {
   "codemirror_mode": {
    "name": "ipython",
    "version": 3
   },
   "file_extension": ".py",
   "mimetype": "text/x-python",
   "name": "python",
   "nbconvert_exporter": "python",
   "pygments_lexer": "ipython3",
   "version": "3.6.0"
  }
 },
 "nbformat": 4,
 "nbformat_minor": 2
}
