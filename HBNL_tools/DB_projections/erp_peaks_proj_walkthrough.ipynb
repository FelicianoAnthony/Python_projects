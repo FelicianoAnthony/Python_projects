{
 "cells": [
  {
   "cell_type": "code",
   "execution_count": 1,
   "metadata": {
    "collapsed": false
   },
   "outputs": [
    {
     "name": "stdout",
     "output_type": "stream",
     "text": [
      "you are now accessing the db named HBNL3\n"
     ]
    }
   ],
   "source": [
    "#DB modules \n",
    "from db import database as D\n",
    "from db import compilation as C\n",
    "\n",
    "#python modules\n",
    "import pandas as pd\n",
    "from pprint import pprint\n",
    "import sys\n",
    "sys.path.append('/vol01/active_projects/anthony/git/DataStore/db')"
   ]
  },
  {
   "cell_type": "code",
   "execution_count": 2,
   "metadata": {
    "collapsed": true
   },
   "outputs": [],
   "source": [
    "import erp_peaks_projection as EP"
   ]
  },
  {
   "cell_type": "markdown",
   "metadata": {},
   "source": [
    "# SIMPLE QUERYING\n",
    "    > 1 tuple (uID) and 3 lists (experiment, condition_peak, channel_lst)\n",
    "       a) experiment -- always lowercase \n",
    "       b) condition_peak -- condition always lowercase, peak uppercase, & underscore-delimited \n",
    "       c) channel_lst -- always uppercase "
   ]
  },
  {
   "cell_type": "code",
   "execution_count": 3,
   "metadata": {
    "collapsed": true
   },
   "outputs": [],
   "source": [
    "experiments = ['aod']\n",
    "measures = ['lat']\n",
    "uIDs = ('40025020_c', '40039010_b')\n",
    "condition_peaks = ['t_P3', 't_N1']\n",
    "channel_lst = ['C3', 'C4', 'CZ']"
   ]
  },
  {
   "cell_type": "code",
   "execution_count": 4,
   "metadata": {
    "collapsed": false
   },
   "outputs": [
    {
     "data": {
      "text/html": [
       "<div>\n",
       "<table border=\"1\" class=\"dataframe\">\n",
       "  <thead>\n",
       "    <tr>\n",
       "      <th></th>\n",
       "      <th>experiment</th>\n",
       "      <th colspan=\"6\" halign=\"left\">aod</th>\n",
       "    </tr>\n",
       "    <tr>\n",
       "      <th></th>\n",
       "      <th>condition</th>\n",
       "      <th colspan=\"6\" halign=\"left\">t</th>\n",
       "    </tr>\n",
       "    <tr>\n",
       "      <th></th>\n",
       "      <th>peak</th>\n",
       "      <th colspan=\"3\" halign=\"left\">N1</th>\n",
       "      <th colspan=\"3\" halign=\"left\">P3</th>\n",
       "    </tr>\n",
       "    <tr>\n",
       "      <th></th>\n",
       "      <th>channel</th>\n",
       "      <th>C3</th>\n",
       "      <th>C4</th>\n",
       "      <th>CZ</th>\n",
       "      <th>C3</th>\n",
       "      <th>C4</th>\n",
       "      <th>CZ</th>\n",
       "    </tr>\n",
       "    <tr>\n",
       "      <th></th>\n",
       "      <th>measures</th>\n",
       "      <th>lat</th>\n",
       "      <th>lat</th>\n",
       "      <th>lat</th>\n",
       "      <th>lat</th>\n",
       "      <th>lat</th>\n",
       "      <th>lat</th>\n",
       "    </tr>\n",
       "    <tr>\n",
       "      <th>ID</th>\n",
       "      <th>session</th>\n",
       "      <th></th>\n",
       "      <th></th>\n",
       "      <th></th>\n",
       "      <th></th>\n",
       "      <th></th>\n",
       "      <th></th>\n",
       "    </tr>\n",
       "  </thead>\n",
       "  <tbody>\n",
       "    <tr>\n",
       "      <th>40025020</th>\n",
       "      <th>c</th>\n",
       "      <td>62.500</td>\n",
       "      <td>58.594</td>\n",
       "      <td>62.500</td>\n",
       "      <td>339.844</td>\n",
       "      <td>335.938</td>\n",
       "      <td>339.844</td>\n",
       "    </tr>\n",
       "    <tr>\n",
       "      <th>40039010</th>\n",
       "      <th>b</th>\n",
       "      <td>132.812</td>\n",
       "      <td>132.812</td>\n",
       "      <td>136.719</td>\n",
       "      <td>332.031</td>\n",
       "      <td>335.938</td>\n",
       "      <td>320.312</td>\n",
       "    </tr>\n",
       "  </tbody>\n",
       "</table>\n",
       "</div>"
      ],
      "text/plain": [
       "experiment            aod                                             \n",
       "condition               t                                             \n",
       "peak                   N1                         P3                  \n",
       "channel                C3       C4       CZ       C3       C4       CZ\n",
       "measures              lat      lat      lat      lat      lat      lat\n",
       "ID       session                                                      \n",
       "40025020 c         62.500   58.594   62.500  339.844  335.938  339.844\n",
       "40039010 b        132.812  132.812  136.719  332.031  335.938  320.312"
      ]
     },
     "execution_count": 4,
     "metadata": {},
     "output_type": "execute_result"
    }
   ],
   "source": [
    "EP.create_mtdf(uIDs, experiments=experiments, cond_peaks=condition_peaks, measures=measures, channels=channel_lst)"
   ]
  },
  {
   "cell_type": "markdown",
   "metadata": {},
   "source": [
    "# INTERMEDIATE QUERYING -- dictionary of lists (DOL) \n",
    "\n",
    "    > In DOL: key = experiment name\n",
    "              value = list of condition_peaks\n",
    "              \n",
    "    > can add a channel argument to get SAME CHANNELS for all condition_peaks\n",
    "        > if you want different channels for different condition_peaks see ADVANCED QUERYING\n",
    "        \n",
    "    > code that's commented out are examples of other ways arguments can be combined"
   ]
  },
  {
   "cell_type": "code",
   "execution_count": 5,
   "metadata": {
    "collapsed": false
   },
   "outputs": [
    {
     "data": {
      "text/html": [
       "<div>\n",
       "<table border=\"1\" class=\"dataframe\">\n",
       "  <thead>\n",
       "    <tr>\n",
       "      <th></th>\n",
       "      <th>experiment</th>\n",
       "      <th colspan=\"12\" halign=\"left\">aod</th>\n",
       "    </tr>\n",
       "    <tr>\n",
       "      <th></th>\n",
       "      <th>condition</th>\n",
       "      <th colspan=\"12\" halign=\"left\">nt</th>\n",
       "    </tr>\n",
       "    <tr>\n",
       "      <th></th>\n",
       "      <th>peak</th>\n",
       "      <th colspan=\"6\" halign=\"left\">N1</th>\n",
       "      <th colspan=\"6\" halign=\"left\">P2</th>\n",
       "    </tr>\n",
       "    <tr>\n",
       "      <th></th>\n",
       "      <th>channel</th>\n",
       "      <th colspan=\"2\" halign=\"left\">AF1</th>\n",
       "      <th colspan=\"2\" halign=\"left\">AF2</th>\n",
       "      <th colspan=\"2\" halign=\"left\">AFZ</th>\n",
       "      <th colspan=\"2\" halign=\"left\">AF1</th>\n",
       "      <th colspan=\"2\" halign=\"left\">AF2</th>\n",
       "      <th colspan=\"2\" halign=\"left\">AFZ</th>\n",
       "    </tr>\n",
       "    <tr>\n",
       "      <th></th>\n",
       "      <th>measures</th>\n",
       "      <th>amp</th>\n",
       "      <th>lat</th>\n",
       "      <th>amp</th>\n",
       "      <th>lat</th>\n",
       "      <th>amp</th>\n",
       "      <th>lat</th>\n",
       "      <th>amp</th>\n",
       "      <th>lat</th>\n",
       "      <th>amp</th>\n",
       "      <th>lat</th>\n",
       "      <th>amp</th>\n",
       "      <th>lat</th>\n",
       "    </tr>\n",
       "    <tr>\n",
       "      <th>ID</th>\n",
       "      <th>session</th>\n",
       "      <th></th>\n",
       "      <th></th>\n",
       "      <th></th>\n",
       "      <th></th>\n",
       "      <th></th>\n",
       "      <th></th>\n",
       "      <th></th>\n",
       "      <th></th>\n",
       "      <th></th>\n",
       "      <th></th>\n",
       "      <th></th>\n",
       "      <th></th>\n",
       "    </tr>\n",
       "  </thead>\n",
       "  <tbody>\n",
       "    <tr>\n",
       "      <th>40025020</th>\n",
       "      <th>c</th>\n",
       "      <td>-2.237</td>\n",
       "      <td>82.031</td>\n",
       "      <td>-2.090</td>\n",
       "      <td>82.031</td>\n",
       "      <td>-2.749</td>\n",
       "      <td>82.031</td>\n",
       "      <td>5.259</td>\n",
       "      <td>179.688</td>\n",
       "      <td>4.642</td>\n",
       "      <td>179.688</td>\n",
       "      <td>4.396</td>\n",
       "      <td>179.688</td>\n",
       "    </tr>\n",
       "    <tr>\n",
       "      <th>40039010</th>\n",
       "      <th>b</th>\n",
       "      <td>-1.818</td>\n",
       "      <td>144.531</td>\n",
       "      <td>-1.322</td>\n",
       "      <td>140.625</td>\n",
       "      <td>-1.466</td>\n",
       "      <td>144.531</td>\n",
       "      <td>-1.339</td>\n",
       "      <td>179.688</td>\n",
       "      <td>-0.573</td>\n",
       "      <td>175.781</td>\n",
       "      <td>-0.688</td>\n",
       "      <td>175.781</td>\n",
       "    </tr>\n",
       "  </tbody>\n",
       "</table>\n",
       "</div>"
      ],
      "text/plain": [
       "experiment          aod                                                  \\\n",
       "condition            nt                                                   \n",
       "peak                 N1                                              P2   \n",
       "channel             AF1             AF2             AFZ             AF1   \n",
       "measures            amp      lat    amp      lat    amp      lat    amp   \n",
       "ID       session                                                          \n",
       "40025020 c       -2.237   82.031 -2.090   82.031 -2.749   82.031  5.259   \n",
       "40039010 b       -1.818  144.531 -1.322  140.625 -1.466  144.531 -1.339   \n",
       "\n",
       "experiment                                                 \n",
       "condition                                                  \n",
       "peak                                                       \n",
       "channel                      AF2             AFZ           \n",
       "measures              lat    amp      lat    amp      lat  \n",
       "ID       session                                           \n",
       "40025020 c        179.688  4.642  179.688  4.396  179.688  \n",
       "40039010 b        179.688 -0.573  175.781 -0.688  175.781  "
      ]
     },
     "execution_count": 5,
     "metadata": {},
     "output_type": "execute_result"
    }
   ],
   "source": [
    "erp_condpeaks_test = {'aod': ['nt_N1', 'nt_P2']}\n",
    "channel_lst = ['AF1', 'AF2', 'AFZ']\n",
    "uIDs = ('40025020_c', '40039010_b')\n",
    "measures = ['amp', 'lat']\n",
    "\n",
    "EP.create_mtdf(uIDs, exp_cond_peaks = erp_condpeaks_test, channels=channel_lst, measures=measures)\n",
    "#EP.create_mtdf(uIDs, exp_cond_peaks = erp_condpeaks_test, channels=channel_lst)\n",
    "#EP.create_mtdf(uIDs, exp_cond_peaks = erp_condpeaks_test)"
   ]
  },
  {
   "cell_type": "markdown",
   "metadata": {},
   "source": [
    "# ADVANCED QUERYING (1 of 2)\n",
    "\n",
    "    > use this if you want to analyze different channels for different condition peaks in the same experiment\n",
    "        1) create_dict_of_lists() function creates a dictionary from 3 lists (experiment, cond_peaks, channel_lst)\n",
    "            a) note at first pass all channels for all cond_peaks are identical \n",
    "       .....   "
   ]
  },
  {
   "cell_type": "code",
   "execution_count": 6,
   "metadata": {
    "collapsed": false
   },
   "outputs": [
    {
     "name": "stdout",
     "output_type": "stream",
     "text": [
      "{'vp3': [('nt', 'P3', ['AF1', 'AF2', 'AF8']),\n",
      "         ('nt', 'N1', ['AF1', 'AF2', 'AF8']),\n",
      "         ('nv', 'P3', ['AF1', 'AF2', 'AF8']),\n",
      "         ('nv', 'N1', ['AF1', 'AF2', 'AF8']),\n",
      "         ('t', 'P3', ['AF1', 'AF2', 'AF8']),\n",
      "         ('t', 'N1', ['AF1', 'AF2', 'AF8'])]}\n"
     ]
    }
   ],
   "source": [
    "experiment = ['vp3']\n",
    "cond_peaks = ['nt_P3', 'nt_N1', 'nv_P3', 'nv_N1', 't_P3', 't_N1']\n",
    "channel_lst = ['AF1', 'AF2', 'AF8']\n",
    "\n",
    "peaks_dict = EP.create_dict_of_lists(experiment, cond_peaks, channel_lst)\n",
    "pprint(peaks_dict)"
   ]
  },
  {
   "cell_type": "code",
   "execution_count": 7,
   "metadata": {
    "collapsed": false
   },
   "outputs": [
    {
     "data": {
      "text/html": [
       "<div>\n",
       "<table border=\"1\" class=\"dataframe\">\n",
       "  <thead>\n",
       "    <tr>\n",
       "      <th></th>\n",
       "      <th>experiment</th>\n",
       "      <th colspan=\"21\" halign=\"left\">vp3</th>\n",
       "    </tr>\n",
       "    <tr>\n",
       "      <th></th>\n",
       "      <th>condition</th>\n",
       "      <th colspan=\"10\" halign=\"left\">nt</th>\n",
       "      <th>...</th>\n",
       "      <th colspan=\"10\" halign=\"left\">t</th>\n",
       "    </tr>\n",
       "    <tr>\n",
       "      <th></th>\n",
       "      <th>peak</th>\n",
       "      <th colspan=\"6\" halign=\"left\">N1</th>\n",
       "      <th colspan=\"4\" halign=\"left\">P3</th>\n",
       "      <th>...</th>\n",
       "      <th colspan=\"4\" halign=\"left\">N1</th>\n",
       "      <th colspan=\"6\" halign=\"left\">P3</th>\n",
       "    </tr>\n",
       "    <tr>\n",
       "      <th></th>\n",
       "      <th>channel</th>\n",
       "      <th colspan=\"2\" halign=\"left\">AF1</th>\n",
       "      <th colspan=\"2\" halign=\"left\">AF2</th>\n",
       "      <th colspan=\"2\" halign=\"left\">AF8</th>\n",
       "      <th colspan=\"2\" halign=\"left\">AF1</th>\n",
       "      <th colspan=\"2\" halign=\"left\">AF2</th>\n",
       "      <th>...</th>\n",
       "      <th colspan=\"2\" halign=\"left\">AF2</th>\n",
       "      <th colspan=\"2\" halign=\"left\">AF8</th>\n",
       "      <th colspan=\"2\" halign=\"left\">AF1</th>\n",
       "      <th colspan=\"2\" halign=\"left\">AF2</th>\n",
       "      <th colspan=\"2\" halign=\"left\">AF8</th>\n",
       "    </tr>\n",
       "    <tr>\n",
       "      <th></th>\n",
       "      <th>measures</th>\n",
       "      <th>amp</th>\n",
       "      <th>lat</th>\n",
       "      <th>amp</th>\n",
       "      <th>lat</th>\n",
       "      <th>amp</th>\n",
       "      <th>lat</th>\n",
       "      <th>amp</th>\n",
       "      <th>lat</th>\n",
       "      <th>amp</th>\n",
       "      <th>lat</th>\n",
       "      <th>...</th>\n",
       "      <th>amp</th>\n",
       "      <th>lat</th>\n",
       "      <th>amp</th>\n",
       "      <th>lat</th>\n",
       "      <th>amp</th>\n",
       "      <th>lat</th>\n",
       "      <th>amp</th>\n",
       "      <th>lat</th>\n",
       "      <th>amp</th>\n",
       "      <th>lat</th>\n",
       "    </tr>\n",
       "    <tr>\n",
       "      <th>ID</th>\n",
       "      <th>session</th>\n",
       "      <th></th>\n",
       "      <th></th>\n",
       "      <th></th>\n",
       "      <th></th>\n",
       "      <th></th>\n",
       "      <th></th>\n",
       "      <th></th>\n",
       "      <th></th>\n",
       "      <th></th>\n",
       "      <th></th>\n",
       "      <th></th>\n",
       "      <th></th>\n",
       "      <th></th>\n",
       "      <th></th>\n",
       "      <th></th>\n",
       "      <th></th>\n",
       "      <th></th>\n",
       "      <th></th>\n",
       "      <th></th>\n",
       "      <th></th>\n",
       "      <th></th>\n",
       "    </tr>\n",
       "  </thead>\n",
       "  <tbody>\n",
       "    <tr>\n",
       "      <th>40025020</th>\n",
       "      <th>c</th>\n",
       "      <td>-3.051</td>\n",
       "      <td>144.531</td>\n",
       "      <td>-2.538</td>\n",
       "      <td>140.625</td>\n",
       "      <td>-1.747</td>\n",
       "      <td>136.719</td>\n",
       "      <td>2.363</td>\n",
       "      <td>210.938</td>\n",
       "      <td>2.131</td>\n",
       "      <td>210.938</td>\n",
       "      <td>...</td>\n",
       "      <td>-1.800</td>\n",
       "      <td>132.812</td>\n",
       "      <td>-0.514</td>\n",
       "      <td>128.906</td>\n",
       "      <td>6.480</td>\n",
       "      <td>355.469</td>\n",
       "      <td>4.671</td>\n",
       "      <td>351.562</td>\n",
       "      <td>6.547</td>\n",
       "      <td>343.750</td>\n",
       "    </tr>\n",
       "    <tr>\n",
       "      <th>40039010</th>\n",
       "      <th>b</th>\n",
       "      <td>-7.384</td>\n",
       "      <td>125.000</td>\n",
       "      <td>-7.338</td>\n",
       "      <td>125.000</td>\n",
       "      <td>-6.350</td>\n",
       "      <td>121.094</td>\n",
       "      <td>0.409</td>\n",
       "      <td>246.094</td>\n",
       "      <td>2.190</td>\n",
       "      <td>246.094</td>\n",
       "      <td>...</td>\n",
       "      <td>-9.623</td>\n",
       "      <td>113.281</td>\n",
       "      <td>-5.648</td>\n",
       "      <td>113.281</td>\n",
       "      <td>10.764</td>\n",
       "      <td>390.625</td>\n",
       "      <td>8.482</td>\n",
       "      <td>386.719</td>\n",
       "      <td>12.633</td>\n",
       "      <td>441.406</td>\n",
       "    </tr>\n",
       "  </tbody>\n",
       "</table>\n",
       "<p>2 rows × 36 columns</p>\n",
       "</div>"
      ],
      "text/plain": [
       "experiment          vp3                                                  \\\n",
       "condition            nt                                                   \n",
       "peak                 N1                                              P3   \n",
       "channel             AF1             AF2             AF8             AF1   \n",
       "measures            amp      lat    amp      lat    amp      lat    amp   \n",
       "ID       session                                                          \n",
       "40025020 c       -3.051  144.531 -2.538  140.625 -1.747  136.719  2.363   \n",
       "40039010 b       -7.384  125.000 -7.338  125.000 -6.350  121.094  0.409   \n",
       "\n",
       "experiment                                  ...                            \\\n",
       "condition                                   ...         t                   \n",
       "peak                                        ...        N1                   \n",
       "channel                      AF2            ...       AF2             AF8   \n",
       "measures              lat    amp      lat   ...       amp      lat    amp   \n",
       "ID       session                            ...                             \n",
       "40025020 c        210.938  2.131  210.938   ...    -1.800  132.812 -0.514   \n",
       "40039010 b        246.094  2.190  246.094   ...    -9.623  113.281 -5.648   \n",
       "\n",
       "experiment                                                                   \n",
       "condition                                                                    \n",
       "peak                           P3                                            \n",
       "channel                       AF1             AF2              AF8           \n",
       "measures              lat     amp      lat    amp      lat     amp      lat  \n",
       "ID       session                                                             \n",
       "40025020 c        128.906   6.480  355.469  4.671  351.562   6.547  343.750  \n",
       "40039010 b        113.281  10.764  390.625  8.482  386.719  12.633  441.406  \n",
       "\n",
       "[2 rows x 36 columns]"
      ]
     },
     "execution_count": 7,
     "metadata": {},
     "output_type": "execute_result"
    }
   ],
   "source": [
    "EP.create_mtdf(uIDs, exp_condpeaks_chans=peaks_dict)"
   ]
  },
  {
   "cell_type": "markdown",
   "metadata": {},
   "source": [
    "# ADVANCED QUERYING (2 OF 2)\n",
    "\n",
    "    .....\n",
    "    2) use update_list_dict() function to update channels of interest for a specific \n",
    "       condition_peak\n",
    "       a) note channel list was updated for t_N1 & t_P3"
   ]
  },
  {
   "cell_type": "code",
   "execution_count": 8,
   "metadata": {
    "collapsed": false
   },
   "outputs": [
    {
     "name": "stdout",
     "output_type": "stream",
     "text": [
      "{'vp3': [('nt', 'P3', ['AF1', 'AF2', 'AF8']),\n",
      "         ('nt', 'N1', ['AF1', 'AF2', 'AF8']),\n",
      "         ('nv', 'P3', ['AF1', 'AF2', 'AF8']),\n",
      "         ('nv', 'N1', ['AF1', 'AF2', 'AF8']),\n",
      "         ('t', 'P3', ['AF1', 'AF2', 'AF8']),\n",
      "         ('t', 'N1', ['OZ', 'O1', 'O2'])]}\n"
     ]
    }
   ],
   "source": [
    "vp3_t_n1_lst = ['OZ', 'O1', 'O2']\n",
    "updated1  = EP.update_list_dict(peaks_dict, 'vp3', 't', 'N1', vp3_t_n1_lst)\n",
    "pprint(updated1)"
   ]
  },
  {
   "cell_type": "code",
   "execution_count": 9,
   "metadata": {
    "collapsed": false
   },
   "outputs": [
    {
     "name": "stdout",
     "output_type": "stream",
     "text": [
      "{'vp3': [('nt', 'P3', ['AF1', 'AF2', 'AF8']),\n",
      "         ('nt', 'N1', ['AF1', 'AF2', 'AF8']),\n",
      "         ('nv', 'P3', ['AF1', 'AF2', 'AF8']),\n",
      "         ('nv', 'N1', ['AF1', 'AF2', 'AF8']),\n",
      "         ('t', 'P3', ['PZ', 'P1', 'P2']),\n",
      "         ('t', 'N1', ['OZ', 'O1', 'O2'])]}\n"
     ]
    }
   ],
   "source": [
    "vp3_t_p3_lst = ['PZ', 'P1', 'P2']\n",
    "\n",
    "updated2 = EP.update_list_dict(updated1, 'vp3', 't', 'P3', vp3_t_p3_lst)\n",
    "pprint(updated2)"
   ]
  },
  {
   "cell_type": "code",
   "execution_count": 10,
   "metadata": {
    "collapsed": false
   },
   "outputs": [
    {
     "data": {
      "text/html": [
       "<div>\n",
       "<table border=\"1\" class=\"dataframe\">\n",
       "  <thead>\n",
       "    <tr>\n",
       "      <th></th>\n",
       "      <th>experiment</th>\n",
       "      <th colspan=\"21\" halign=\"left\">vp3</th>\n",
       "    </tr>\n",
       "    <tr>\n",
       "      <th></th>\n",
       "      <th>condition</th>\n",
       "      <th colspan=\"10\" halign=\"left\">nt</th>\n",
       "      <th>...</th>\n",
       "      <th colspan=\"10\" halign=\"left\">t</th>\n",
       "    </tr>\n",
       "    <tr>\n",
       "      <th></th>\n",
       "      <th>peak</th>\n",
       "      <th colspan=\"6\" halign=\"left\">N1</th>\n",
       "      <th colspan=\"4\" halign=\"left\">P3</th>\n",
       "      <th>...</th>\n",
       "      <th colspan=\"4\" halign=\"left\">N1</th>\n",
       "      <th colspan=\"6\" halign=\"left\">P3</th>\n",
       "    </tr>\n",
       "    <tr>\n",
       "      <th></th>\n",
       "      <th>channel</th>\n",
       "      <th colspan=\"2\" halign=\"left\">AF1</th>\n",
       "      <th colspan=\"2\" halign=\"left\">AF2</th>\n",
       "      <th colspan=\"2\" halign=\"left\">AF8</th>\n",
       "      <th colspan=\"2\" halign=\"left\">AF1</th>\n",
       "      <th colspan=\"2\" halign=\"left\">AF2</th>\n",
       "      <th>...</th>\n",
       "      <th colspan=\"2\" halign=\"left\">O2</th>\n",
       "      <th colspan=\"2\" halign=\"left\">OZ</th>\n",
       "      <th colspan=\"2\" halign=\"left\">P1</th>\n",
       "      <th colspan=\"2\" halign=\"left\">P2</th>\n",
       "      <th colspan=\"2\" halign=\"left\">PZ</th>\n",
       "    </tr>\n",
       "    <tr>\n",
       "      <th></th>\n",
       "      <th>measures</th>\n",
       "      <th>amp</th>\n",
       "      <th>lat</th>\n",
       "      <th>amp</th>\n",
       "      <th>lat</th>\n",
       "      <th>amp</th>\n",
       "      <th>lat</th>\n",
       "      <th>amp</th>\n",
       "      <th>lat</th>\n",
       "      <th>amp</th>\n",
       "      <th>lat</th>\n",
       "      <th>...</th>\n",
       "      <th>amp</th>\n",
       "      <th>lat</th>\n",
       "      <th>amp</th>\n",
       "      <th>lat</th>\n",
       "      <th>amp</th>\n",
       "      <th>lat</th>\n",
       "      <th>amp</th>\n",
       "      <th>lat</th>\n",
       "      <th>amp</th>\n",
       "      <th>lat</th>\n",
       "    </tr>\n",
       "    <tr>\n",
       "      <th>ID</th>\n",
       "      <th>session</th>\n",
       "      <th></th>\n",
       "      <th></th>\n",
       "      <th></th>\n",
       "      <th></th>\n",
       "      <th></th>\n",
       "      <th></th>\n",
       "      <th></th>\n",
       "      <th></th>\n",
       "      <th></th>\n",
       "      <th></th>\n",
       "      <th></th>\n",
       "      <th></th>\n",
       "      <th></th>\n",
       "      <th></th>\n",
       "      <th></th>\n",
       "      <th></th>\n",
       "      <th></th>\n",
       "      <th></th>\n",
       "      <th></th>\n",
       "      <th></th>\n",
       "      <th></th>\n",
       "    </tr>\n",
       "  </thead>\n",
       "  <tbody>\n",
       "    <tr>\n",
       "      <th>40025020</th>\n",
       "      <th>c</th>\n",
       "      <td>-3.051</td>\n",
       "      <td>144.531</td>\n",
       "      <td>-2.538</td>\n",
       "      <td>140.625</td>\n",
       "      <td>-1.747</td>\n",
       "      <td>136.719</td>\n",
       "      <td>2.363</td>\n",
       "      <td>210.938</td>\n",
       "      <td>2.131</td>\n",
       "      <td>210.938</td>\n",
       "      <td>...</td>\n",
       "      <td>2.844</td>\n",
       "      <td>140.625</td>\n",
       "      <td>6.406</td>\n",
       "      <td>152.344</td>\n",
       "      <td>14.459</td>\n",
       "      <td>324.219</td>\n",
       "      <td>10.880</td>\n",
       "      <td>320.312</td>\n",
       "      <td>12.906</td>\n",
       "      <td>324.219</td>\n",
       "    </tr>\n",
       "    <tr>\n",
       "      <th>40039010</th>\n",
       "      <th>b</th>\n",
       "      <td>-7.384</td>\n",
       "      <td>125.000</td>\n",
       "      <td>-7.338</td>\n",
       "      <td>125.000</td>\n",
       "      <td>-6.350</td>\n",
       "      <td>121.094</td>\n",
       "      <td>0.409</td>\n",
       "      <td>246.094</td>\n",
       "      <td>2.190</td>\n",
       "      <td>246.094</td>\n",
       "      <td>...</td>\n",
       "      <td>0.122</td>\n",
       "      <td>171.875</td>\n",
       "      <td>2.460</td>\n",
       "      <td>167.969</td>\n",
       "      <td>30.218</td>\n",
       "      <td>378.906</td>\n",
       "      <td>34.807</td>\n",
       "      <td>375.000</td>\n",
       "      <td>36.044</td>\n",
       "      <td>375.000</td>\n",
       "    </tr>\n",
       "  </tbody>\n",
       "</table>\n",
       "<p>2 rows × 36 columns</p>\n",
       "</div>"
      ],
      "text/plain": [
       "experiment          vp3                                                  \\\n",
       "condition            nt                                                   \n",
       "peak                 N1                                              P3   \n",
       "channel             AF1             AF2             AF8             AF1   \n",
       "measures            amp      lat    amp      lat    amp      lat    amp   \n",
       "ID       session                                                          \n",
       "40025020 c       -3.051  144.531 -2.538  140.625 -1.747  136.719  2.363   \n",
       "40039010 b       -7.384  125.000 -7.338  125.000 -6.350  121.094  0.409   \n",
       "\n",
       "experiment                                  ...                            \\\n",
       "condition                                   ...         t                   \n",
       "peak                                        ...        N1                   \n",
       "channel                      AF2            ...        O2              OZ   \n",
       "measures              lat    amp      lat   ...       amp      lat    amp   \n",
       "ID       session                            ...                             \n",
       "40025020 c        210.938  2.131  210.938   ...     2.844  140.625  6.406   \n",
       "40039010 b        246.094  2.190  246.094   ...     0.122  171.875  2.460   \n",
       "\n",
       "experiment                                                                    \n",
       "condition                                                                     \n",
       "peak                           P3                                             \n",
       "channel                        P1               P2               PZ           \n",
       "measures              lat     amp      lat     amp      lat     amp      lat  \n",
       "ID       session                                                              \n",
       "40025020 c        152.344  14.459  324.219  10.880  320.312  12.906  324.219  \n",
       "40039010 b        167.969  30.218  378.906  34.807  375.000  36.044  375.000  \n",
       "\n",
       "[2 rows x 36 columns]"
      ]
     },
     "execution_count": 10,
     "metadata": {},
     "output_type": "execute_result"
    }
   ],
   "source": [
    "uIDs = ('40025020_c', '40039010_b')\n",
    "\n",
    "EP.create_mtdf(uIDs, exp_condpeaks_chans=updated2)"
   ]
  },
  {
   "cell_type": "markdown",
   "metadata": {},
   "source": [
    "# UTILITIES  (1 of 2)\n",
    "    > argument compatibility"
   ]
  },
  {
   "cell_type": "code",
   "execution_count": 11,
   "metadata": {
    "collapsed": false
   },
   "outputs": [
    {
     "name": "stdout",
     "output_type": "stream",
     "text": [
      "Error: Incompatible argument combination.  Exp_cond_peaks & exp_condpeaks_chans should be dictionaries and would already contain experiment and condition_peak information\n"
     ]
    },
    {
     "ename": "SystemExit",
     "evalue": "1",
     "output_type": "error",
     "traceback": [
      "An exception has occurred, use %tb to see the full traceback.\n",
      "\u001b[0;31mSystemExit\u001b[0m\u001b[0;31m:\u001b[0m 1\n"
     ]
    },
    {
     "name": "stderr",
     "output_type": "stream",
     "text": [
      "/usr/local/anaconda3/envs/db/lib/python3.5/site-packages/IPython/core/interactiveshell.py:2889: UserWarning: To exit: use 'exit', 'quit', or Ctrl-D.\n",
      "  warn(\"To exit: use 'exit', 'quit', or Ctrl-D.\", stacklevel=1)\n"
     ]
    }
   ],
   "source": [
    "erp_condpeaks = {'aod': ['nt_N1', 'nt_P2'],\n",
    "                 'vp3': ['nt_N1', 'nt_P3']}\n",
    "\n",
    "ex = ['aod']\n",
    "cp = ['t_P3', 't_N1']\n",
    "ch = ['C3', 'C4', 'AF1', 'AF2']\n",
    "\n",
    "EP.create_mtdf(uIDs, experiments=ex, cond_peaks=cp, exp_cond_peaks=erp_condpeaks)\n",
    "#EP.create_mtdf(uIDs, experiments = erp_condpeaks_test, cond_peaks = erp_condpeaks_test)"
   ]
  },
  {
   "cell_type": "markdown",
   "metadata": {},
   "source": [
    "# UTILITIES (2 OF 2)\n",
    "    > auto-fix incorrectly passed argument types -- only works for simple querying"
   ]
  },
  {
   "cell_type": "code",
   "execution_count": null,
   "metadata": {
    "collapsed": true
   },
   "outputs": [],
   "source": [
    "ex = 'aod'\n",
    "cp = 't_P3', 't_N1'\n",
    "ch = 'C3', 'C4', 'AF1', 'AF2'\n",
    "\n",
    "create_mtdf(uIDs, experiments=ex, cond_peaks=cp, channels=ch)\n",
    "#create_mtdf(uIDs, experiments = erp_condpeaks)"
   ]
  }
 ],
 "metadata": {
  "kernelspec": {
   "display_name": "Python [conda env:db]",
   "language": "python",
   "name": "conda-env-db-py"
  },
  "language_info": {
   "codemirror_mode": {
    "name": "ipython",
    "version": 3
   },
   "file_extension": ".py",
   "mimetype": "text/x-python",
   "name": "python",
   "nbconvert_exporter": "python",
   "pygments_lexer": "ipython3",
   "version": "3.5.2"
  }
 },
 "nbformat": 4,
 "nbformat_minor": 1
}
