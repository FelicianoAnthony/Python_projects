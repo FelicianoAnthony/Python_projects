{
 "cells": [
  {
   "cell_type": "code",
   "execution_count": 353,
   "metadata": {
    "collapsed": true
   },
   "outputs": [],
   "source": [
    "import sys\n",
    "import re\n",
    "import sqlite3\n",
    "sys.path.append('')"
   ]
  },
  {
   "cell_type": "code",
   "execution_count": 344,
   "metadata": {
    "collapsed": false
   },
   "outputs": [
    {
     "data": {
      "text/plain": [
       "<module 'indeed_crawler' from '/Users/Anthony/Desktop/python_projects_clean/selenium/indeed_crawler.py'>"
      ]
     },
     "execution_count": 344,
     "metadata": {},
     "output_type": "execute_result"
    }
   ],
   "source": [
    "imp.reload(c)"
   ]
  },
  {
   "cell_type": "code",
   "execution_count": null,
   "metadata": {
    "collapsed": true
   },
   "outputs": [],
   "source": [
    "import indeed_crawler as c"
   ]
  },
  {
   "cell_type": "code",
   "execution_count": 381,
   "metadata": {
    "collapsed": true
   },
   "outputs": [],
   "source": [
    "def get_unique_identifiers(url):\n",
    "    \n",
    "    # get additional unique identifiers to post to DB \n",
    "    soup = c.create_soup(url)\n",
    "    job_title = soup.find('font', {'size': '+1'}).get_text()\n",
    "    job_company = soup.find('span', {'class':'source'}).get_text()\n",
    "    return job_company, job_title"
   ]
  },
  {
   "cell_type": "code",
   "execution_count": null,
   "metadata": {
    "collapsed": true
   },
   "outputs": [],
   "source": [
    "for br in soup.find_all(\"br\"):\n",
    "    br.replace_with(\"\\n\")"
   ]
  },
  {
   "cell_type": "code",
   "execution_count": 430,
   "metadata": {
    "collapsed": false
   },
   "outputs": [
    {
     "ename": "AttributeError",
     "evalue": "'NoneType' object has no attribute 'next_siblings'",
     "output_type": "error",
     "traceback": [
      "\u001b[0;31m---------------------------------------------------------------------------\u001b[0m",
      "\u001b[0;31mAttributeError\u001b[0m                            Traceback (most recent call last)",
      "\u001b[0;32m<ipython-input-430-334f08534a33>\u001b[0m in \u001b[0;36m<module>\u001b[0;34m()\u001b[0m\n\u001b[0;32m----> 1\u001b[0;31m \u001b[0;34m''\u001b[0m\u001b[0;34m.\u001b[0m\u001b[0mjoin\u001b[0m\u001b[0;34m(\u001b[0m\u001b[0mthird_p\u001b[0m\u001b[0;34m.\u001b[0m\u001b[0mfind\u001b[0m\u001b[0;34m(\u001b[0m\u001b[0;34m'br'\u001b[0m\u001b[0;34m)\u001b[0m\u001b[0;34m.\u001b[0m\u001b[0mnext_siblings\u001b[0m\u001b[0;34m)\u001b[0m\u001b[0;34m\u001b[0m\u001b[0m\n\u001b[0m\u001b[1;32m      2\u001b[0m \u001b[0;34m\u001b[0m\u001b[0m\n",
      "\u001b[0;31mAttributeError\u001b[0m: 'NoneType' object has no attribute 'next_siblings'"
     ]
    }
   ],
   "source": [
    "''.join(third_p.find('br').next_siblings)\n",
    "    "
   ]
  },
  {
   "cell_type": "code",
   "execution_count": 404,
   "metadata": {
    "collapsed": true
   },
   "outputs": [],
   "source": [
    "def applied_jobs(url, full_path_to_db, create=False):\n",
    "    \n",
    "    conn = sqlite3.connect(full_path_to_db)\n",
    "    c = conn.cursor()\n",
    "    \n",
    "    uids = get_unique_identifiers(url)\n",
    "    \n",
    "    if create:\n",
    "        create_table(full_path_to_db)\n",
    "    \n",
    "        # make sure post doesnt already exist in DB\n",
    "    c.execute('SELECT * FROM indeed_jobs WHERE (url=? AND company_name=? AND job_title=?)', (url, uids[0], uids[1]))\n",
    "    entry = c.fetchone()\n",
    "    \n",
    "    if entry is None:\n",
    "        # add to DB if not found \n",
    "        c.execute(\"insert or ignore into indeed_jobs (url, company_name, job_title) values (?, ?, ?)\",\n",
    "            (url, uids[0], uids[1]))\n",
    "        conn.commit()\n",
    "\n",
    "        # show that window for x amount of time\n",
    "        print ('\\n\\n', 'New entry added', '\\n', uids[0], uids[1], '\\n\\n')\n",
    "\n",
    "    else:\n",
    "        print ('Entry found')"
   ]
  },
  {
   "cell_type": "code",
   "execution_count": 408,
   "metadata": {
    "collapsed": false,
    "scrolled": true
   },
   "outputs": [
    {
     "name": "stdout",
     "output_type": "stream",
     "text": [
      "https://www.indeed.com/m/viewjob?jk=a29bd2b0b5daec87\n",
      "\n",
      "\n",
      " New entry added \n",
      " JPMorgan Chase Athena DevOps Engineer \n",
      "\n",
      "\n",
      "None\n",
      "https://www.indeed.com/m/viewjob?jk=64fa7151df5b6764\n",
      "\n",
      "\n",
      " New entry added \n",
      " Dice DevOps Engineer \n",
      "\n",
      "\n",
      "None\n",
      "https://www.indeed.com/m/viewjob?jk=49e8922b9d6b2c34\n",
      "\n",
      "\n",
      " New entry added \n",
      " Dice Sr. Hadoop Developer \n",
      "\n",
      "\n",
      "None\n",
      "https://www.indeed.com/m/viewjob?jk=1eb3069d68c27524\n",
      "\n",
      "\n",
      " New entry added \n",
      " JPMorgan Chase Athena Application Engineer \n",
      "\n",
      "\n",
      "None\n",
      "https://www.indeed.com/m/viewjob?jk=40e9503bfea737ec\n",
      "\n",
      "\n",
      " New entry added \n",
      " Bank of America Quartz Senior Solutions Developer \n",
      "\n",
      "\n",
      "None\n",
      "https://www.indeed.com/m/viewjob?jk=87567636ae6e80b7\n",
      "\n",
      "\n",
      " New entry added \n",
      " CMP.jobs Senior Python/React Developer \n",
      "\n",
      "\n",
      "None\n",
      "https://www.indeed.com/m/viewjob?jk=4340daece7c4ba85\n",
      "\n",
      "\n",
      " New entry added \n",
      " Vdart Inc Full stack developer \n",
      "\n",
      "\n",
      "None\n",
      "https://www.indeed.com/m/viewjob?jk=e3f6b008922fe1c3\n",
      "\n",
      "\n",
      " New entry added \n",
      " JPMorgan Chase Python - Software Engineer \n",
      "\n",
      "\n",
      "None\n",
      "https://www.indeed.com/m/viewjob?jk=1d3319c4775599ac\n",
      "\n",
      "\n",
      " New entry added \n",
      " Gambit Technologies Application Support Engineer \n",
      "\n",
      "\n",
      "None\n",
      "https://www.indeed.com/m/viewjob?jk=7161a6acdf1c63aa\n",
      "\n",
      "\n",
      " New entry added \n",
      " Two Sigma Investments, LLC. Software Engineer \n",
      "\n",
      "\n",
      "None\n",
      "https://www.indeed.com/m/viewjob?jk=16e15300fcba0418\n"
     ]
    },
    {
     "ename": "AttributeError",
     "evalue": "'NoneType' object has no attribute 'get_text'",
     "output_type": "error",
     "traceback": [
      "\u001b[0;31m---------------------------------------------------------------------------\u001b[0m",
      "\u001b[0;31mAttributeError\u001b[0m                            Traceback (most recent call last)",
      "\u001b[0;32m<ipython-input-408-bce78d753f84>\u001b[0m in \u001b[0;36m<module>\u001b[0;34m()\u001b[0m\n\u001b[1;32m      8\u001b[0m \u001b[0;32mfor\u001b[0m \u001b[0mi\u001b[0m \u001b[0;32min\u001b[0m \u001b[0mlinks\u001b[0m\u001b[0;34m:\u001b[0m\u001b[0;34m\u001b[0m\u001b[0m\n\u001b[1;32m      9\u001b[0m     \u001b[0mprint\u001b[0m\u001b[0;34m(\u001b[0m\u001b[0mi\u001b[0m\u001b[0;34m)\u001b[0m\u001b[0;34m\u001b[0m\u001b[0m\n\u001b[0;32m---> 10\u001b[0;31m     \u001b[0mprint\u001b[0m\u001b[0;34m(\u001b[0m\u001b[0mapplied_jobs\u001b[0m\u001b[0;34m(\u001b[0m\u001b[0mi\u001b[0m\u001b[0;34m,\u001b[0m \u001b[0mdb_path\u001b[0m\u001b[0;34m)\u001b[0m\u001b[0;34m)\u001b[0m\u001b[0;34m\u001b[0m\u001b[0m\n\u001b[0m",
      "\u001b[0;32m<ipython-input-404-ab9ff60085d0>\u001b[0m in \u001b[0;36mapplied_jobs\u001b[0;34m(url, full_path_to_db, create)\u001b[0m\n\u001b[1;32m      4\u001b[0m     \u001b[0mc\u001b[0m \u001b[0;34m=\u001b[0m \u001b[0mconn\u001b[0m\u001b[0;34m.\u001b[0m\u001b[0mcursor\u001b[0m\u001b[0;34m(\u001b[0m\u001b[0;34m)\u001b[0m\u001b[0;34m\u001b[0m\u001b[0m\n\u001b[1;32m      5\u001b[0m \u001b[0;34m\u001b[0m\u001b[0m\n\u001b[0;32m----> 6\u001b[0;31m     \u001b[0muids\u001b[0m \u001b[0;34m=\u001b[0m \u001b[0mget_unique_identifiers\u001b[0m\u001b[0;34m(\u001b[0m\u001b[0murl\u001b[0m\u001b[0;34m)\u001b[0m\u001b[0;34m\u001b[0m\u001b[0m\n\u001b[0m\u001b[1;32m      7\u001b[0m \u001b[0;34m\u001b[0m\u001b[0m\n\u001b[1;32m      8\u001b[0m     \u001b[0;32mif\u001b[0m \u001b[0mcreate\u001b[0m\u001b[0;34m:\u001b[0m\u001b[0;34m\u001b[0m\u001b[0m\n",
      "\u001b[0;32m<ipython-input-381-1feeeba171f3>\u001b[0m in \u001b[0;36mget_unique_identifiers\u001b[0;34m(url)\u001b[0m\n\u001b[1;32m      4\u001b[0m     \u001b[0msoup\u001b[0m \u001b[0;34m=\u001b[0m \u001b[0mc\u001b[0m\u001b[0;34m.\u001b[0m\u001b[0mcreate_soup\u001b[0m\u001b[0;34m(\u001b[0m\u001b[0murl\u001b[0m\u001b[0;34m)\u001b[0m\u001b[0;34m\u001b[0m\u001b[0m\n\u001b[1;32m      5\u001b[0m     \u001b[0mjob_title\u001b[0m \u001b[0;34m=\u001b[0m \u001b[0msoup\u001b[0m\u001b[0;34m.\u001b[0m\u001b[0mfind\u001b[0m\u001b[0;34m(\u001b[0m\u001b[0;34m'font'\u001b[0m\u001b[0;34m,\u001b[0m \u001b[0;34m{\u001b[0m\u001b[0;34m'size'\u001b[0m\u001b[0;34m:\u001b[0m \u001b[0;34m'+1'\u001b[0m\u001b[0;34m}\u001b[0m\u001b[0;34m)\u001b[0m\u001b[0;34m.\u001b[0m\u001b[0mget_text\u001b[0m\u001b[0;34m(\u001b[0m\u001b[0;34m)\u001b[0m\u001b[0;34m\u001b[0m\u001b[0m\n\u001b[0;32m----> 6\u001b[0;31m     \u001b[0mjob_company\u001b[0m \u001b[0;34m=\u001b[0m \u001b[0msoup\u001b[0m\u001b[0;34m.\u001b[0m\u001b[0mfind\u001b[0m\u001b[0;34m(\u001b[0m\u001b[0;34m'span'\u001b[0m\u001b[0;34m,\u001b[0m \u001b[0;34m{\u001b[0m\u001b[0;34m'class'\u001b[0m\u001b[0;34m:\u001b[0m\u001b[0;34m'source'\u001b[0m\u001b[0;34m}\u001b[0m\u001b[0;34m)\u001b[0m\u001b[0;34m.\u001b[0m\u001b[0mget_text\u001b[0m\u001b[0;34m(\u001b[0m\u001b[0;34m)\u001b[0m\u001b[0;34m\u001b[0m\u001b[0m\n\u001b[0m\u001b[1;32m      7\u001b[0m     \u001b[0;32mreturn\u001b[0m \u001b[0mjob_company\u001b[0m\u001b[0;34m,\u001b[0m \u001b[0mjob_title\u001b[0m\u001b[0;34m\u001b[0m\u001b[0m\n",
      "\u001b[0;31mAttributeError\u001b[0m: 'NoneType' object has no attribute 'get_text'"
     ]
    }
   ],
   "source": [
    "url = 'https://www.indeed.com/m/viewjob?jk=e0367ad7b4a8b13d'\n",
    "db_path = '/Users/Anthony/Desktop/python_projects_clean/selenium/db/indeed333.sqlite'\n",
    "\n",
    "#create_table(db_path)\n",
    "\n",
    "create_table(db_path)\n",
    "\n",
    "for i in links:\n",
    "    print(i)\n",
    "    print(applied_jobs(i, db_path))"
   ]
  },
  {
   "cell_type": "code",
   "execution_count": null,
   "metadata": {
    "collapsed": true
   },
   "outputs": [],
   "source": [
    "links = c.indeed_webdriver_crawler('python developer', 'new york, ny', \n",
    "                           5,driver_path)"
   ]
  },
  {
   "cell_type": "markdown",
   "metadata": {},
   "source": [
    "# What's this do?\n",
    "\n",
    "# How's it work?\n",
    "\n",
    "# 1) open webdriver to query indeed.com for job name, location, and # of pages to scrape links \n",
    "\n",
    "# 2) Creates 'unique identifiers' for each job posting and stores in SQL DB (url, job title, company)\n",
    "\n",
    "# 3) If 'unique identifiers' not found in DB then show job posting in a new tab in same window for user-defined amount of time\n",
    "    \n",
    "    \n",
    "# 4) X out of tab if job isn't interesting & wait for next job to come up, repeat\n",
    "\n",
    "# 5) when the program stops running you will only have jobs you have never seen before that are of interest to you"
   ]
  },
  {
   "cell_type": "code",
   "execution_count": null,
   "metadata": {
    "collapsed": true
   },
   "outputs": [],
   "source": [
    "job = 'python developer' \n",
    "company = 'New York, NY' \n",
    "pages_to_scrape = 1\n",
    "db_path = '/Users/Anthony/Desktop/python_projects_clean/selenium/db/indeed122.sqlite'\n",
    "sleep_int = 3\n",
    "\n",
    "driver_path = '/Users/Anthony/Desktop/chromedriver'\n",
    "\n",
    "\n",
    "c.combined_all(job, company, pages_to_scrape, db_path, sleep_int,\n",
    "               driver_path,query_list=['python'], first_run=True)"
   ]
  }
 ],
 "metadata": {
  "kernelspec": {
   "display_name": "Python 3",
   "language": "python",
   "name": "python3"
  },
  "language_info": {
   "codemirror_mode": {
    "name": "ipython",
    "version": 3
   },
   "file_extension": ".py",
   "mimetype": "text/x-python",
   "name": "python",
   "nbconvert_exporter": "python",
   "pygments_lexer": "ipython3",
   "version": "3.6.0"
  }
 },
 "nbformat": 4,
 "nbformat_minor": 2
}
